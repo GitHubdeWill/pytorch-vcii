{
 "cells": [
  {
   "cell_type": "code",
   "execution_count": 49,
   "metadata": {},
   "outputs": [],
   "source": [
    "import skvideo.io\n",
    "import skvideo.motion\n",
    "import skvideo.datasets\n",
    "\n",
    "from PIL import Image\n",
    "import numpy as np\n",
    "from time import time"
   ]
  },
  {
   "cell_type": "code",
   "execution_count": 76,
   "metadata": {},
   "outputs": [],
   "source": [
    "videodata = skvideo.io.vread(\"./bigbuckbunny.mp4\")"
   ]
  },
  {
   "cell_type": "code",
   "execution_count": 78,
   "metadata": {},
   "outputs": [
    {
     "name": "stdout",
     "output_type": "stream",
     "text": [
      "ES 512.3830373287201\n",
      "(132, 720, 1280, 3)\n",
      "(131, 90, 160, 2)\n",
      "3SS 207.07607197761536\n",
      "(132, 720, 1280, 3)\n",
      "(131, 90, 160, 2)\n",
      "N3SS 376.73182821273804\n",
      "(132, 720, 1280, 3)\n",
      "(131, 90, 160, 2)\n",
      "SE3SS 129.94138598442078\n",
      "(132, 720, 1280, 3)\n",
      "(131, 90, 160, 2)\n",
      "4SS 397.42982745170593\n",
      "(132, 720, 1280, 3)\n",
      "(131, 90, 160, 2)\n",
      "ARPS 204.97492289543152\n",
      "(132, 720, 1280, 3)\n",
      "(131, 90, 160, 2)\n",
      "DS 198.89117288589478\n",
      "(132, 720, 1280, 3)\n",
      "(131, 90, 160, 2)\n"
     ]
    }
   ],
   "source": [
    "med = [\"ES\", \"3SS\", \"N3SS\", \"SE3SS\", \"4SS\", \"ARPS\", \"DS\"]\n",
    "for m in med:\n",
    "    s = time()\n",
    "    motion = skvideo.motion.blockMotion(videodata,method=m)\n",
    "    print(m, time()-s)\n",
    "    print(videodata.shape)\n",
    "    print(motion.shape)"
   ]
  },
  {
   "cell_type": "code",
   "execution_count": 4,
   "metadata": {},
   "outputs": [],
   "source": [
    "skvideo.io.vwrite(\"bigbuckbunny.mp4\", videodata)"
   ]
  },
  {
   "cell_type": "code",
   "execution_count": 8,
   "metadata": {},
   "outputs": [],
   "source": [
    "from matplotlib import pyplot as plt"
   ]
  },
  {
   "cell_type": "code",
   "execution_count": 13,
   "metadata": {},
   "outputs": [],
   "source": [
    "motion_sample = Image.open(\"./data/eval_mv/silent_cif_0002_after_flow_x_0001.jpg\")"
   ]
  },
  {
   "cell_type": "code",
   "execution_count": 19,
   "metadata": {},
   "outputs": [],
   "source": [
    "target_motion = np.array(motion_sample)"
   ]
  },
  {
   "cell_type": "code",
   "execution_count": 20,
   "metadata": {},
   "outputs": [
    {
     "data": {
      "text/plain": [
       "(288, 352)"
      ]
     },
     "execution_count": 20,
     "metadata": {},
     "output_type": "execute_result"
    }
   ],
   "source": [
    "target_motion.shape"
   ]
  },
  {
   "cell_type": "code",
   "execution_count": 40,
   "metadata": {},
   "outputs": [],
   "source": [
    "bs = 8\n",
    "# Size of the picture\n",
    "image_size = (motion.shape[1]*bs, motion.shape[2]*bs)\n",
    "# Size of the whole vidimage_sizelection represented in matrix\n",
    "video_shape = (motion.shape[0]+1, image_size[0], image_size[1])"
   ]
  },
  {
   "cell_type": "code",
   "execution_count": 42,
   "metadata": {},
   "outputs": [
    {
     "name": "stdout",
     "output_type": "stream",
     "text": [
      "3.1076345443725586\n"
     ]
    }
   ],
   "source": [
    "x_motion = np.zeros(video_shape)\n",
    "y_motion = np.zeros(video_shape)\n",
    "s = time()\n",
    "for f in range(video_shape[0]-1):  # We only want the motion starting from frame 1\n",
    "    for i in range(motion.shape[1]):  # height of motion\n",
    "        for j in range(motion.shape[2]):  # width of motion\n",
    "            start_i = i*bs\n",
    "            end_i = (i+1)*bs\n",
    "            start_j = j*bs\n",
    "            end_j = (j+1)*bs\n",
    "            y_motion[f+1, start_i:end_i, start_j:end_j] = motion[f, i, j, 0]  # The first element is y\n",
    "            x_motion[f+1, start_i:end_i, start_j:end_j] = motion[f, i, j, 1]  # The second element is x\n",
    "print(time()-s)  # 81 seconds for sync each pixel; 3 seconds for sync per block"
   ]
  },
  {
   "cell_type": "code",
   "execution_count": 43,
   "metadata": {},
   "outputs": [
    {
     "data": {
      "text/plain": [
       "<matplotlib.image.AxesImage at 0x7f8aad3aaf28>"
      ]
     },
     "execution_count": 43,
     "metadata": {},
     "output_type": "execute_result"
    },
    {
     "data": {
      "image/png": "[encoded data removed]",
      "text/plain": [
       "<Figure size 432x288 with 1 Axes>"
      ]
     },
     "metadata": {
      "needs_background": "light"
     },
     "output_type": "display_data"
    }
   ],
   "source": [
    "plt.imshow(x_motion[1])"
   ]
  },
  {
   "cell_type": "code",
   "execution_count": 67,
   "metadata": {},
   "outputs": [
    {
     "name": "stdout",
     "output_type": "stream",
     "text": [
      "1.2308363914489746\n"
     ]
    },
    {
     "data": {
      "text/plain": [
       "<matplotlib.image.AxesImage at 0x7f8a52a6ef60>"
      ]
     },
     "execution_count": 67,
     "metadata": {},
     "output_type": "execute_result"
    },
    {
     "data": {
      "image/png": "[encoded data removed]",
      "text/plain": [
       "<Figure size 432x288 with 1 Axes>"
      ]
     },
     "metadata": {
      "needs_background": "light"
     },
     "output_type": "display_data"
    }
   ],
   "source": [
    "x_motion = np.zeros(video_shape)\n",
    "y_motion = np.zeros(video_shape)\n",
    "s = time()\n",
    "for f in range(video_shape[0]-1):  # We only want the motion starting from frame 1\n",
    "    x_motion[f+1,:,:] = motion[f, :, :, 1].repeat(bs, axis=0).repeat(bs, axis=1)\n",
    "    y_motion[f+1,:,:] = motion[f, :, :, 0].repeat(bs, axis=0).repeat(bs, axis=1)\n",
    "print(time()-s)\n",
    "plt.imshow(x_motion[1])"
   ]
  },
  {
   "cell_type": "code",
   "execution_count": 68,
   "metadata": {},
   "outputs": [],
   "source": [
    "# https://stackoverflow.com/questions/32846846/quick-way-to-upsample-numpy-array-by-nearest-neighbor-tiling\n",
    "from numpy.lib.stride_tricks import as_strided\n",
    "\n",
    "def tile_array(a, b0, b1):\n",
    "    r, c = a.shape                                    # number of rows/columns\n",
    "    rs, cs = a.strides                                # row/column strides \n",
    "    x = as_strided(a, (r, b0, c, b1), (rs, 0, cs, 0)) # view a as larger 4D array\n",
    "    return x.reshape(r*b0, c*b1)  "
   ]
  },
  {
   "cell_type": "code",
   "execution_count": 69,
   "metadata": {},
   "outputs": [
    {
     "name": "stdout",
     "output_type": "stream",
     "text": [
      "0.5952291488647461\n"
     ]
    },
    {
     "data": {
      "text/plain": [
       "<matplotlib.image.AxesImage at 0x7f8a52cedc88>"
      ]
     },
     "execution_count": 69,
     "metadata": {},
     "output_type": "execute_result"
    },
    {
     "data": {
      "image/png": "[encoded data removed]",
      "text/plain": [
       "<Figure size 432x288 with 1 Axes>"
      ]
     },
     "metadata": {
      "needs_background": "light"
     },
     "output_type": "display_data"
    }
   ],
   "source": [
    "x_motion = np.zeros(video_shape)\n",
    "y_motion = np.zeros(video_shape)\n",
    "s = time()\n",
    "for f in range(video_shape[0]-1):  # We only want the motion starting from frame 1\n",
    "    x_motion[f+1,:,:] = tile_array(motion[f, :, :, 1], bs, bs)\n",
    "    y_motion[f+1,:,:] = tile_array(motion[f, :, :, 0], bs, bs)\n",
    "print(time()-s)\n",
    "plt.imshow(x_motion[1])"
   ]
  },
  {
   "cell_type": "code",
   "execution_count": 82,
   "metadata": {},
   "outputs": [],
   "source": [
    "a = Image.open(\"/home/will/cv/video-compression/vcii/pytorch-vcii/data/train_mv/rgbsHTWwiKU_000003_000013_0002_before_flow_x_0001.jpg\")"
   ]
  },
  {
   "cell_type": "code",
   "execution_count": 87,
   "metadata": {},
   "outputs": [
    {
     "name": "stdout",
     "output_type": "stream",
     "text": [
      "2.0\n"
     ]
    }
   ],
   "source": [
    "print(x_motion[1,300, 300])"
   ]
  },
  {
   "cell_type": "code",
   "execution_count": null,
   "metadata": {},
   "outputs": [],
   "source": []
  }
 ],
 "metadata": {
  "kernelspec": {
   "display_name": "Python 3.7 PyTorch",
   "language": "python",
   "name": "py37_pt"
  },
  "language_info": {
   "codemirror_mode": {
    "name": "ipython",
    "version": 3
   },
   "file_extension": ".py",
   "mimetype": "text/x-python",
   "name": "python",
   "nbconvert_exporter": "python",
   "pygments_lexer": "ipython3",
   "version": "3.7.2"
  }
 },
 "nbformat": 4,
 "nbformat_minor": 2
}
